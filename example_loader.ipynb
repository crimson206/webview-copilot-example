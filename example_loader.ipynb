{
 "cells": [
  {
   "cell_type": "markdown",
   "metadata": {},
   "source": [
    "### **Page Purpose**  \n",
    "This page provides sample downloads and explanations to help users explore related features. Users can:  \n",
    "- **Download repository contents** using the `download_repo_contents` function.  \n",
    "- **Refer to interactive notebooks (`.ipynb`)** for explanations and examples.  \n",
    "- **Experiment with the provided code** in a controlled environment.  \n",
    "\n",
    "### **Related Documentation**  \n",
    "For further details, refer to the following official VS Code documentation:  \n",
    "- [Copilot Chat](https://code.visualstudio.com/docs/copilot/copilot-chat) – Chat-based AI assistance in VS Code.  \n",
    "- [Copilot Edits](https://code.visualstudio.com/docs/copilot/copilot-edits) – AI-powered inline code suggestions.  \n",
    "- [Webview Guide](https://code.visualstudio.com/api/extension-guides/webview) – Creating custom UI in VS Code extensions.  \n"
   ]
  },
  {
   "cell_type": "code",
   "execution_count": 4,
   "metadata": {},
   "outputs": [
    {
     "name": "stdout",
     "output_type": "stream",
     "text": [
      "File saved successfully: output/chat-tutorial/.gitignore\n",
      "File saved successfully: output/chat-tutorial/.vscodeignore\n",
      "File saved successfully: output/chat-tutorial/README.md\n",
      "File saved successfully: output/chat-tutorial/demo.png\n",
      "File saved successfully: output/chat-tutorial/eslint.config.mjs\n",
      "File saved successfully: output/chat-tutorial/package-lock.json\n",
      "File saved successfully: output/chat-tutorial/package.json\n",
      "File saved successfully: output/chat-tutorial/tsconfig.json\n",
      "File saved successfully: output/chat-tutorial/tutor.jpeg\n",
      "File saved successfully: output/chat-tutorial/.vscode/extensions.json\n",
      "File saved successfully: output/chat-tutorial/.vscode/launch.json\n",
      "File saved successfully: output/chat-tutorial/.vscode/settings.json\n",
      "File saved successfully: output/chat-tutorial/.vscode/tasks.json\n",
      "File saved successfully: output/chat-tutorial/src/extension.ts\n"
     ]
    }
   ],
   "source": [
    "from crimson.github_app import download_repo_contents\n",
    "\n",
    "relavant_dirs = [\n",
    "\t'chat-tutorial',\n",
    "    'chat-sample',\n",
    "    'webview-sample',\n",
    "]\n",
    "\n",
    "download_repo_contents(\n",
    "\trepo_name='microsoft/vscode-extension-samples',\n",
    "\tdir_in_repo='chat-tutorial',\n",
    "    output_dir='vscode-examples'\n",
    ")"
   ]
  }
 ],
 "metadata": {
  "kernelspec": {
   "display_name": "base",
   "language": "python",
   "name": "python3"
  },
  "language_info": {
   "codemirror_mode": {
    "name": "ipython",
    "version": 3
   },
   "file_extension": ".py",
   "mimetype": "text/x-python",
   "name": "python",
   "nbconvert_exporter": "python",
   "pygments_lexer": "ipython3",
   "version": "3.12.2"
  }
 },
 "nbformat": 4,
 "nbformat_minor": 2
}
